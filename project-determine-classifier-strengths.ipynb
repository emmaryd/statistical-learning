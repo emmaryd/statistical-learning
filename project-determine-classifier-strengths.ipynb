{
 "cells": [
  {
   "cell_type": "markdown",
   "metadata": {},
   "source": [
    "# Project: Determine Classifier strengths"
   ]
  },
  {
   "cell_type": "markdown",
   "metadata": {},
   "source": [
    "### Instructions: <br>\n",
    "- Look at multiple real (as in \"not simulated\") classification data sets and apply 2-3 classifiers. <br> \n",
    "- For each method, find at least one dataset where the chosen method is best (e.g. by performing cross-validation) <br>and the other two methods do not perform as well. <br> There is an extensive list of websites where you can find datasets on the course PM.<br>\n",
    "-  Explain why the respective classifier is best by inspecting the features <br> e.g. through suitable plots<br>\n",
    "-  Make sure to properly take care of e.g. stratification if predictors or classes are unbalanced.<br>"
   ]
  },
  {
   "cell_type": "code",
   "execution_count": 40,
   "metadata": {},
   "outputs": [],
   "source": [
    "import numpy as np\n",
    "from sklearn import datasets, neighbors, preprocessing, utils, metrics, linear_model \n",
    "import matplotlib.pyplot as plt\n",
    "from matplotlib.colors import ListedColormap\n",
    "#import kaggle"
   ]
  },
  {
   "cell_type": "code",
   "execution_count": 21,
   "metadata": {},
   "outputs": [],
   "source": [
    "class Dataset:\n",
    "    \"\"\"\n",
    "    Class: dataset\n",
    "    import_dataset: choose between iris and digits.\n",
    "    standardise_data: standardise the data set\n",
    "    shuffle_data: shuffle the data set\n",
    "    split_data: create n_folds number of folds\n",
    "    \"\"\"\n",
    "    \n",
    "    def __init__(self, dataset): \n",
    "        self.X = None\n",
    "        self.t = None\n",
    "        self.dataset = dataset\n",
    "        self.X_folds = []\n",
    "        self.t_folds = [] \n",
    "        self.target_names = None\n",
    "        \n",
    "    def import_dataset(self):\n",
    "        if self.dataset =='iris':\n",
    "            data = datasets.load_iris()\n",
    "        if self.dataset == 'digits':\n",
    "            data = datasets.load_digits()\n",
    "        if self.dataset == 'breast_cancer':\n",
    "            data = datasets.load_breast_cancer()     \n",
    "        if self.dataset == 'wine':\n",
    "            data = datasets.load_wine()\n",
    "       \n",
    "        self.X = data['data']\n",
    "        self.t = data['target']\n",
    "        self.target_names = data['target_names']\n",
    "\n",
    "    def standardise_data(self):\n",
    "        standard_scaled = preprocessing.StandardScaler()\n",
    "        self.X = standard_scaled.fit_transform(self.X)\n",
    "\n",
    "    def shuffle_data(self):\n",
    "        self.X, self.t = utils.shuffle(self.X,self.t)\n",
    "    \n",
    "    def split_data(self, n_fold):\n",
    "        self.X_folds = []\n",
    "        self.t_folds = []\n",
    "        size_data = len(self.t)\n",
    "        size_fold = int(size_data/n_fold)\n",
    "        \n",
    "        if size_data%n_fold == 0:\n",
    "            start_index = 0\n",
    "            stop_index = size_fold \n",
    "            for i in range(n_fold):\n",
    "                self.X_folds.append(self.X[start_index:stop_index])\n",
    "                self.t_folds.append(self.t[start_index:stop_index])\n",
    "                \n",
    "                start_index += size_fold\n",
    "                stop_index += size_fold\n",
    "        else:\n",
    "            remainder = size_data%n_fold\n",
    "            start_index = 0\n",
    "            stop_index = size_fold + 1\n",
    "            remainder -= 1\n",
    "            \n",
    "            for i in range(n_fold):\n",
    "                self.X_folds.append(self.X[start_index:stop_index])\n",
    "                self.t_folds.append(self.t[start_index:stop_index])\n",
    "                \n",
    "                if remainder == 0:\n",
    "                    start_index = stop_index \n",
    "                    stop_index += size_fold\n",
    "                \n",
    "                else: \n",
    "                    start_index = stop_index \n",
    "                    stop_index += size_fold + 1\n",
    "                    remainder -= 1  "
   ]
  },
  {
   "cell_type": "code",
   "execution_count": 37,
   "metadata": {},
   "outputs": [],
   "source": [
    "def run_knn(data, n_folds, k_neighbours):\n",
    "    #\n",
    "    dataset = Dataset(data)\n",
    "    dataset.import_dataset()\n",
    "    dataset.standardise_data()\n",
    "    dataset.shuffle_data()\n",
    "    dataset.split_data(n_folds)\n",
    "    #print(len(np.concatenate(iris.t_folds)))\n",
    "    \n",
    "    accuracy_score = []\n",
    "    test_data_index = 0\n",
    "    for i in range(n_folds): \n",
    "        X_test = dataset.X_folds[test_data_index]\n",
    "        t_test = dataset.t_folds[test_data_index]\n",
    "\n",
    "        X_train = np.concatenate(np.delete(dataset.X_folds, test_data_index, 0))\n",
    "        t_train = np.concatenate(np.delete(dataset.t_folds, test_data_index, 0))\n",
    "        \n",
    "        #print(\"num_0:\", np.sum(t_train==0),\"num_1:\", np.sum(t_train==1),\"num_2:\", np.sum(t_train==2))\n",
    "\n",
    "        classifier = neighbors.KNeighborsClassifier(k_neighbours)\n",
    "        classifier.fit(X_train, t_train)\n",
    "        Z = classifier.predict(X_test)\n",
    "        \n",
    "        accuracy = metrics.accuracy_score(t_test, Z)\n",
    "        accuracy_score.append(accuracy)\n",
    "        test_data_index += 1\n",
    "        #print(f'accuracy: {accuracy}, fold: {test_data_index}')\n",
    "        \n",
    "    average_test_accuracy = np.sum(accuracy_score)/len(accuracy_score)\n",
    "    print('average test accuracy:', average_test_accuracy)\n",
    "    \n",
    "    # Plot the confusion matrix\n",
    "    confusion_matrix = metrics.plot_confusion_matrix(classifier, X_test, t_test,\n",
    "                                     display_labels=dataset.target_names,\n",
    "                                     cmap=plt.cm.Blues,\n",
    "                                     normalize='true')\n",
    "    confusion_matrix.ax_.set_title(f'Confusion nmatrix for knn classification on {data} dataset. \\\n",
    "                                   \\n k={k_neighbours}, folds={n_folds}')\n",
    "\n",
    "    #print(confusion_matrix.confusion_matrix)\n",
    "\n",
    "    plt.show()\n",
    "    return classifier, accuracy_score\n"
   ]
  },
  {
   "cell_type": "code",
   "execution_count": 39,
   "metadata": {},
   "outputs": [
    {
     "name": "stdout",
     "output_type": "stream",
     "text": [
      "average test accuracy: 0.9666353383458647\n"
     ]
    },
    {
     "data": {
      "image/png": "[encoded data removed]",
      "text/plain": [
       "<Figure size 432x288 with 2 Axes>"
      ]
     },
     "metadata": {
      "needs_background": "light"
     },
     "output_type": "display_data"
    },
    {
     "name": "stdout",
     "output_type": "stream",
     "text": [
      "[0.9824561403508771, 0.9649122807017544, 0.9298245614035088, 0.9298245614035088, 1.0, 0.9649122807017544, 0.9122807017543859, 1.0, 1.0, 0.9821428571428571]\n"
     ]
    }
   ],
   "source": [
    "knn = run_knn('breast_cancer', n_folds=10, k_neighbours=5)\n",
    "classifier = knn[0]\n",
    "accuracy = knn[1]\n",
    "print(accuracy)"
   ]
  },
  {
   "cell_type": "code",
   "execution_count": 6,
   "metadata": {},
   "outputs": [
    {
     "name": "stdout",
     "output_type": "stream",
     "text": [
      "average test accuracy: 0.9755276225946616\n"
     ]
    }
   ],
   "source": [
    "knn = run_knn('digits', n_folds=10, k_neighbours=5)\n",
    "classifier = knn[0]\n",
    "accuracy = knn[1]\n",
    "#print(accuracy)"
   ]
  },
  {
   "cell_type": "code",
   "execution_count": 41,
   "metadata": {},
   "outputs": [],
   "source": [
    "def run_classifier(data, classification_method, n_folds, k_neighbours=5):\n",
    "    #\n",
    "    dataset = Dataset(data)\n",
    "    dataset.import_dataset()\n",
    "    dataset.standardise_data()\n",
    "    dataset.shuffle_data()\n",
    "    dataset.split_data(n_folds)\n",
    "    \n",
    "    accuracy_score = []\n",
    "    test_data_index = 0\n",
    "    for i in range(n_folds): \n",
    "        X_test = dataset.X_folds[test_data_index]\n",
    "        t_test = dataset.t_folds[test_data_index]\n",
    "\n",
    "        X_train = np.concatenate(np.delete(dataset.X_folds, test_data_index, 0))\n",
    "        t_train = np.concatenate(np.delete(dataset.t_folds, test_data_index, 0))\n",
    "        \n",
    "        #print(\"num_0:\", np.sum(t_train==0),\"num_1:\", np.sum(t_train==1),\"num_2:\", np.sum(t_train==2))\n",
    "        if classification_method == 'knn':\n",
    "            classifier = neighbors.KNeighborsClassifier(k_neighbours)\n",
    "        if classification_method == 'logistic_regression':\n",
    "            classifier = linear_model.LogisticRegression()\n",
    "       \n",
    "        classifier.fit(X_train, t_train)\n",
    "        Z = classifier.predict(X_test)\n",
    "        \n",
    "        accuracy = metrics.accuracy_score(t_test, Z)\n",
    "        accuracy_score.append(accuracy)\n",
    "        test_data_index += 1\n",
    "        #print(f'accuracy: {accuracy}, fold: {test_data_index}')\n",
    "        \n",
    "    average_test_accuracy = np.sum(accuracy_score)/len(accuracy_score)\n",
    "    print('average test accuracy:', average_test_accuracy)\n",
    "    \n",
    "    # Plot the confusion matrix\n",
    "    confusion_matrix = metrics.plot_confusion_matrix(classifier, X_test, t_test,\n",
    "                                     display_labels=dataset.target_names,\n",
    "                                     cmap=plt.cm.Blues,\n",
    "                                     normalize='true')\n",
    "    confusion_matrix.ax_.set_title(f'Confusion nmatrix for knn classification on {data} dataset. \\\n",
    "                                   \\n k={k_neighbours}, folds={n_folds}')\n",
    "\n",
    "    #print(confusion_matrix.confusion_matrix)\n",
    "\n",
    "    plt.show()\n",
    "    return classifier, accuracy_score\n"
   ]
  },
  {
   "cell_type": "code",
   "execution_count": 45,
   "metadata": {},
   "outputs": [
    {
     "name": "stdout",
     "output_type": "stream",
     "text": [
      "average test accuracy: 0.9666353383458647\n"
     ]
    },
    {
     "data": {
      "image/png": "[encoded data removed]",
      "text/plain": [
       "<Figure size 432x288 with 2 Axes>"
      ]
     },
     "metadata": {
      "needs_background": "light"
     },
     "output_type": "display_data"
    },
    {
     "name": "stdout",
     "output_type": "stream",
     "text": [
      "[0.9824561403508771, 0.9473684210526315, 0.8771929824561403, 0.9473684210526315, 0.9824561403508771, 1.0, 1.0, 0.9649122807017544, 0.9824561403508771, 0.9821428571428571]\n"
     ]
    }
   ],
   "source": [
    "knn = run_classifier('wine','knn', n_folds=10, k_neighbours=5)\n",
    "classifier = knn[0]\n",
    "accuracy = knn[1]\n",
    "print(accuracy)"
   ]
  },
  {
   "cell_type": "code",
   "execution_count": 47,
   "metadata": {},
   "outputs": [
    {
     "name": "stdout",
     "output_type": "stream",
     "text": [
      "average test accuracy: 0.9777777777777779\n"
     ]
    },
    {
     "data": {
      "image/png": "[encoded data removed]",
      "text/plain": [
       "<Figure size 432x288 with 2 Axes>"
      ]
     },
     "metadata": {
      "needs_background": "light"
     },
     "output_type": "display_data"
    }
   ],
   "source": [
    "knn = run_classifier('wine','logistic_regression', n_folds=10, k_neighbours=5)\n",
    "classifier = knn[0]\n",
    "accuracy = knn[1]\n",
    "#print(accuracy)"
   ]
  },
  {
   "cell_type": "code",
   "execution_count": null,
   "metadata": {},
   "outputs": [],
   "source": [
    "# TESTING TO CREATE NICE KNN PLOT, probably should discard this code\n",
    "\n",
    "dataset = 'iris'\n",
    "n_folds = 10\n",
    "k_neighbours = 20\n",
    "    \n",
    "data = Dataset(dataset)\n",
    "data.import_dataset()\n",
    "#data.standardise_data()\n",
    "data.shuffle_data()\n",
    "data.split_data(n_folds)\n",
    "\n",
    "X = data.X\n",
    "t = data.t\n",
    "\n",
    "X_test = data.X_folds[0]\n",
    "t_test = data.t_folds[0]\n",
    "\n",
    "X_train = np.concatenate(np.delete(data.X_folds, 0, 0))\n",
    "t_train = np.concatenate(np.delete(data.t_folds, 0, 0))\n",
    "\n",
    "classifier = neighbors.KNeighborsClassifier(k_neighbours)\n",
    "classifier.fit(X_train, t_train)\n",
    "\n",
    "Z = classifier.predict(X_test)\n",
    "\n",
    "# Change to accuracy or somerthing more correct!!!!!!\n",
    "score = np.sum(Z==t_test)/len(Z)\n",
    "\n",
    "accuracy = metrics.accuracy_score(t_test, Z)\n",
    "\n",
    "print(f'Score: {score}, accuracy: {accuracy}, fold: {0}')\n",
    "print('len data',len(t_train), len(t_test))\n",
    "\n",
    "h = .01  # step size in the mesh\n",
    "\n",
    "# Create color maps\n",
    "cmap_light = ListedColormap(['blue','violet','lime','pink','red'])\n",
    "cmap_bold = ListedColormap(['navy','purple','green','hotpink','maroon'])\n",
    "\n",
    "\n",
    "# Plot the decision boundary. For that, we will assign a color to each\n",
    "# point in the mesh [x_min, m_max]x[y_min, y_max].\n",
    "x_min, x_max = X_train[:, 0].min() - 1, X_train[:, 0].max() + 1\n",
    "y_min, y_max = X_train[:, 1].min() - 1, X_train[:, 1].max() + 1\n",
    "xx, yy = np.meshgrid(np.arange(x_min, x_max, h),\n",
    "                     np.arange(y_min, y_max, h))\n",
    "\n",
    "Z = classifier.predict(np.c_[xx.ravel(), yy.ravel()])\n",
    "\n",
    "# Put the result into a color plot\n",
    "Z = Z.reshape(xx.shape)\n",
    "plt.figure()\n",
    "plt.pcolormesh(xx, yy, Z, cmap=cmap_light)\n",
    "\n",
    "# Plot also the training points\n",
    "plt.scatter(X[:, 0], X[:, 1], c=t, cmap=cmap_bold, edgecolor='grey')\n",
    "plt.xlim(xx.min(), xx.max())\n",
    "plt.ylim(yy.min(), yy.max())\n",
    "plt.title(f\"kNN classification k = {k_neighbours}\")\n",
    "\n",
    "plt.show()"
   ]
  }
 ],
 "metadata": {
  "kernelspec": {
   "display_name": "Python 3",
   "language": "python",
   "name": "python3"
  },
  "language_info": {
   "codemirror_mode": {
    "name": "ipython",
    "version": 3
   },
   "file_extension": ".py",
   "mimetype": "text/x-python",
   "name": "python",
   "nbconvert_exporter": "python",
   "pygments_lexer": "ipython3",
   "version": "3.7.1"
  }
 },
 "nbformat": 4,
 "nbformat_minor": 2
}
